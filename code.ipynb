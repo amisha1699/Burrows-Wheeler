{
  "cells": [
    {
      "cell_type": "code",
      "execution_count": 5,
      "metadata": {
        "id": "4FkhhqjnrFx4"
      },
      "outputs": [],
      "source": [
        "def BurrowsWheeler(S):\n",
        "    \"\"\"\n",
        "    This function computes the Burrows-Wheeler Transform (BWT) of the input string.\n",
        "\n",
        "    Parameters:\n",
        "    S (str): The input string for which to compute the BWT from the input file.\n",
        "    Note - The file contains multiple strings so the input is passed through a for loop, for single input please remove the for loop and pass just one string.\n",
        "\n",
        "    Returns:\n",
        "    str: The Burrows-Wheeler Transform of the input string.\n",
        "\n",
        "    Raises:\n",
        "    AssertionError: If the input string contains '$'.\n",
        "\n",
        "    \"\"\"\n",
        "    # Input string cannot contain $, if found it raises an Assertion Error\n",
        "    assert \"$\" not in S, \"Input string cannot contain '$'\"\n",
        "\n",
        "    # Adding \"$\" to the end of the string\n",
        "    S += \"$\"\n",
        "\n",
        "    # Creating a table to store the rotations of the strings\n",
        "    bwt_table = [S[i:] + S[:i] for i in range(len(S))]\n",
        "    print(f\"Table =  {bwt_table}\\n\")\n",
        "\n",
        "    # Sorting Lexicographically\n",
        "    bwt_table = sorted(bwt_table)\n",
        "    print(f\"Sorting Lexicographically .... \")\n",
        "    print(f\"Sorted Table - {bwt_table}\\n\")\n",
        "\n",
        "    # Getting the last character from each row\n",
        "    last_column = [row[-1:] for row in bwt_table]\n",
        "    bwt = ''.join(last_column)\n",
        "    return bwt"
      ]
    },
    {
      "cell_type": "code",
      "execution_count": 6,
      "metadata": {
        "id": "telt1pYCtmUC"
      },
      "outputs": [],
      "source": [
        "def inverse_BurrowsWheeler(bwt):\n",
        "    \"\"\"\n",
        "    This module computes the inverse Burrows-Wheeler Transform of BWT(S).\n",
        "\n",
        "    Parameters:\n",
        "    bwt (str): The Burrows-Wheeler Transform string for which to compute the inverse.\n",
        "\n",
        "    Returns:\n",
        "    str: The original string.\n",
        "\n",
        "    \"\"\"\n",
        "    # Make empty table to store the inverse\n",
        "    table = [\"\"] * len(bwt)\n",
        "\n",
        "    # Iterating over each character in bwt\n",
        "    for i in range(len(bwt)):\n",
        "        table = [bwt[i] + table[i] for i in range(len(bwt))]\n",
        "        table = sorted(table)\n",
        "\n",
        "    # Finding the correct row (ending in $)\n",
        "    inverse_bwt = [row for row in table if row.endswith(\"$\")][0]\n",
        "\n",
        "    # Removing the start and end markers\n",
        "    inverse_bwt = inverse_bwt.rstrip(\"$\")\n",
        "\n",
        "    return inverse_bwt"
      ]
    },
    {
      "cell_type": "code",
      "execution_count": 8,
      "metadata": {
        "colab": {
          "base_uri": "https://localhost:8080/"
        },
        "id": "v1xnqeQLu5uu",
        "outputId": "d3255143-7d27-4c7c-d92c-8c1f45282c6a"
      },
      "outputs": [
        {
          "name": "stdout",
          "output_type": "stream",
          "text": [
            "String 1: newdelhi\n",
            "Table =  ['newdelhi$', 'ewdelhi$n', 'wdelhi$ne', 'delhi$new', 'elhi$newd', 'lhi$newde', 'hi$newdel', 'i$newdelh', '$newdelhi']\n",
            "\n",
            "Sorting Lexicographically .... \n",
            "Sorted Table - ['$newdelhi', 'delhi$new', 'elhi$newd', 'ewdelhi$n', 'hi$newdel', 'i$newdelh', 'lhi$newde', 'newdelhi$', 'wdelhi$ne']\n",
            "\n",
            "Burrows-Wheeler Transform: iwdnlhe$e\n",
            "Inverse Burrows-Wheeler Transform: newdelhi\n",
            "\n",
            "String 2: panamabananas\n",
            "Table =  ['panamabananas$', 'anamabananas$p', 'namabananas$pa', 'amabananas$pan', 'mabananas$pana', 'abananas$panam', 'bananas$panama', 'ananas$panamab', 'nanas$panamaba', 'anas$panamaban', 'nas$panamabana', 'as$panamabanan', 's$panamabanana', '$panamabananas']\n",
            "\n",
            "Sorting Lexicographically .... \n",
            "Sorted Table - ['$panamabananas', 'abananas$panam', 'amabananas$pan', 'anamabananas$p', 'ananas$panamab', 'anas$panamaban', 'as$panamabanan', 'bananas$panama', 'mabananas$pana', 'namabananas$pa', 'nanas$panamaba', 'nas$panamabana', 'panamabananas$', 's$panamabanana']\n",
            "\n",
            "Burrows-Wheeler Transform: smnpbnnaaaaa$a\n",
            "Inverse Burrows-Wheeler Transform: panamabananas\n",
            "\n",
            "String 3: banana\n",
            "Table =  ['banana$', 'anana$b', 'nana$ba', 'ana$ban', 'na$bana', 'a$banan', '$banana']\n",
            "\n",
            "Sorting Lexicographically .... \n",
            "Sorted Table - ['$banana', 'a$banan', 'ana$ban', 'anana$b', 'banana$', 'na$bana', 'nana$ba']\n",
            "\n",
            "Burrows-Wheeler Transform: annb$aa\n",
            "Inverse Burrows-Wheeler Transform: banana\n",
            "\n",
            "String 4: dogwood\n",
            "Table =  ['dogwood$', 'ogwood$d', 'gwood$do', 'wood$dog', 'ood$dogw', 'od$dogwo', 'd$dogwoo', '$dogwood']\n",
            "\n",
            "Sorting Lexicographically .... \n",
            "Sorted Table - ['$dogwood', 'd$dogwoo', 'dogwood$', 'gwood$do', 'od$dogwo', 'ogwood$d', 'ood$dogw', 'wood$dog']\n",
            "\n",
            "Burrows-Wheeler Transform: do$oodwg\n",
            "Inverse Burrows-Wheeler Transform: dogwood\n",
            "\n",
            "String 5: mississippi\n",
            "Table =  ['mississippi$', 'ississippi$m', 'ssissippi$mi', 'sissippi$mis', 'issippi$miss', 'ssippi$missi', 'sippi$missis', 'ippi$mississ', 'ppi$mississi', 'pi$mississip', 'i$mississipp', '$mississippi']\n",
            "\n",
            "Sorting Lexicographically .... \n",
            "Sorted Table - ['$mississippi', 'i$mississipp', 'ippi$mississ', 'issippi$miss', 'ississippi$m', 'mississippi$', 'pi$mississip', 'ppi$mississi', 'sippi$missis', 'sissippi$mis', 'ssippi$missi', 'ssissippi$mi']\n",
            "\n",
            "Burrows-Wheeler Transform: ipssm$pissii\n",
            "Inverse Burrows-Wheeler Transform: mississippi\n",
            "\n"
          ]
        }
      ],
      "source": [
        "#Before running the function please change the file path\n",
        "file_path = \"bwt.txt\"\n",
        "with open(file_path, \"r\") as file:\n",
        "    strings = file.readlines()\n",
        "\n",
        "strings = [s.strip() for s in strings]\n",
        "\n",
        "# Since the input file contains multiple strings, the function is applied to each string one by one\n",
        "for i, string in enumerate(strings, 1):\n",
        "    print(f\"String {i}: {string}\")\n",
        "    bwt = BurrowsWheeler(string)\n",
        "    print(f\"Burrows-Wheeler Transform: {bwt}\")\n",
        "    inverse_bwt = inverse_BurrowsWheeler(bwt)\n",
        "    print(f\"Inverse Burrows-Wheeler Transform: {inverse_bwt}\\n\")"
      ]
    }
  ],
  "metadata": {
    "colab": {
      "provenance": []
    },
    "kernelspec": {
      "display_name": "Python 3",
      "name": "python3"
    },
    "language_info": {
      "codemirror_mode": {
        "name": "ipython",
        "version": 3
      },
      "file_extension": ".py",
      "mimetype": "text/x-python",
      "name": "python",
      "nbconvert_exporter": "python",
      "pygments_lexer": "ipython3",
      "version": "3.11.5"
    }
  },
  "nbformat": 4,
  "nbformat_minor": 0
}
